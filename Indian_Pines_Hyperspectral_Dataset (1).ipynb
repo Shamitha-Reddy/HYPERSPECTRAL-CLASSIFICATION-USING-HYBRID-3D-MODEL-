{
  "nbformat": 4,
  "nbformat_minor": 0,
  "metadata": {
    "colab": {
      "private_outputs": true,
      "provenance": [],
      "gpuType": "T4",
      "cell_execution_strategy": "setup"
    },
    "kernelspec": {
      "name": "python3",
      "display_name": "Python 3"
    },
    "language_info": {
      "name": "python"
    },
    "accelerator": "GPU"
  },
  "cells": [
    {
      "cell_type": "code",
      "source": [
        "import numpy as np # linear algebra\n",
        "import pandas as pd # data processing, CSV file I/O (e.g. pd.read_csv)\n",
        "\n",
        "import os\n",
        "for dirname, _, filenames in os.walk('/kaggle/input'):\n",
        "    for filename in filenames:\n",
        "        print(os.path.join(dirname, filename))"
      ],
      "metadata": {
        "id": "MxDsIz6PsSYH"
      },
      "execution_count": null,
      "outputs": []
    },
    {
      "cell_type": "code",
      "source": [
        "!wget \"http://www.ehu.eus/ccwintco/uploads/6/67/Indian_pines_corrected.mat\"\n",
        "\n",
        "!wget \"http://www.ehu.eus/ccwintco/uploads/c/c4/Indian_pines_gt.mat\""
      ],
      "metadata": {
        "id": "SM-VcCaz_Q5r"
      },
      "execution_count": null,
      "outputs": []
    },
    {
      "cell_type": "code",
      "execution_count": null,
      "metadata": {
        "id": "olZRLfDFrgNs"
      },
      "outputs": [],
      "source": [
        "!ls"
      ]
    },
    {
      "cell_type": "code",
      "source": [
        "from scipy.io import loadmat"
      ],
      "metadata": {
        "id": "lQwt2cSDrufQ"
      },
      "execution_count": null,
      "outputs": []
    },
    {
      "cell_type": "code",
      "source": [
        "## Read the data.\n",
        "dataset = loadmat('Indian_pines_corrected.mat')['indian_pines_corrected']\n",
        "ground_truth = loadmat('Indian_pines_gt.mat')['indian_pines_gt']"
      ],
      "metadata": {
        "id": "mTSthRAKtqLX"
      },
      "execution_count": null,
      "outputs": []
    },
    {
      "cell_type": "code",
      "source": [
        "#The dimensions of the data.\n",
        "print(f'Dataset: {dataset.shape}\\nGround Truth: {ground_truth.shape}')"
      ],
      "metadata": {
        "id": "iS8wpTz2vxfu"
      },
      "execution_count": null,
      "outputs": []
    },
    {
      "cell_type": "code",
      "source": [
        "import numpy as np #define f\n",
        "import matplotlib.pyplot as plt\n",
        "\n",
        "def plot_band(dataset):\n",
        "    plt.figure(figsize=(8, 6))\n",
        "    band_no = np.random.randint(dataset.shape[2])\n",
        "    plt.imshow(dataset[:,:, band_no], cmap='jet')\n",
        "    plt.title(f'Band-{band_no}', fontsize=14)\n",
        "    plt.axis('off')\n",
        "    plt.colorbar()\n",
        "    plt.show()"
      ],
      "metadata": {
        "id": "8sjjTtfGv8Fj"
      },
      "execution_count": null,
      "outputs": []
    },
    {
      "cell_type": "code",
      "source": [
        "plot_band(dataset)"
      ],
      "metadata": {
        "id": "Cf75r2llyj09"
      },
      "execution_count": null,
      "outputs": []
    },
    {
      "cell_type": "code",
      "source": [
        "plt.figure(figsize=(8, 6)) #pi\n",
        "plt.imshow(ground_truth, cmap='jet')\n",
        "plt.axis('off')\n",
        "plt.colorbar(ticks= range(0,16))\n",
        "plt.show()"
      ],
      "metadata": {
        "id": "Aq3ZHWQZynM6"
      },
      "execution_count": null,
      "outputs": []
    },
    {
      "cell_type": "code",
      "source": [
        "from tqdm import tqdm"
      ],
      "metadata": {
        "id": "CVQK8QbWyrEq"
      },
      "execution_count": null,
      "outputs": []
    },
    {
      "cell_type": "code",
      "source": [
        "dataset[:,:,2].ravel().shape"
      ],
      "metadata": {
        "id": "I54bRyPJyuAO"
      },
      "execution_count": null,
      "outputs": []
    },
    {
      "cell_type": "code",
      "source": [
        "ser = pd.Series(dataset[0][0])"
      ],
      "metadata": {
        "id": "wIQBU_pYywdi"
      },
      "execution_count": null,
      "outputs": []
    },
    {
      "cell_type": "code",
      "source": [
        "ser"
      ],
      "metadata": {
        "id": "NHj0rRU7yyws"
      },
      "execution_count": null,
      "outputs": []
    },
    {
      "cell_type": "code",
      "source": [
        "df_temp = pd.DataFrame()\n",
        "temp = pd.Series([1,3])\n",
        "df_temp = pd.concat([temp,ser])"
      ],
      "metadata": {
        "id": "enpHG68ry1PQ"
      },
      "execution_count": null,
      "outputs": []
    },
    {
      "cell_type": "code",
      "source": [
        "df_temp"
      ],
      "metadata": {
        "id": "QBND4d7yy4CJ"
      },
      "execution_count": null,
      "outputs": []
    },
    {
      "cell_type": "code",
      "source": [
        "pd.DataFrame(dataset[0,0])"
      ],
      "metadata": {
        "id": "vol8ameky6jH"
      },
      "execution_count": null,
      "outputs": []
    },
    {
      "cell_type": "code",
      "source": [
        "df_new = pd.DataFrame()\n",
        "for i in tqdm(range(dataset.shape[0])):\n",
        "    for j in range(dataset.shape[1]):\n",
        "        df_new=pd.concat([df_new,pd.Series([i,j]),pd.Series(dataset[i,j])],axis=0)"
      ],
      "metadata": {
        "id": "rzGw-5vLy_Q9"
      },
      "execution_count": null,
      "outputs": []
    },
    {
      "cell_type": "code",
      "source": [
        "row_list = []\n",
        "for i in range(0,145):\n",
        "    for j in range(0,145):\n",
        "        row_list.append(i)\n",
        "\n",
        "col_list = []\n",
        "for i in range(0,145):\n",
        "    for j in range(0,145):\n",
        "        col_list.append(j)\n",
        "\n",
        "row_series = pd.Series(row_list)\n",
        "col_series = pd.Series(col_list)"
      ],
      "metadata": {
        "id": "chXysW9TzB45"
      },
      "execution_count": null,
      "outputs": []
    },
    {
      "cell_type": "code",
      "source": [
        "row_series"
      ],
      "metadata": {
        "id": "AUNNFVcP0Yxl"
      },
      "execution_count": null,
      "outputs": []
    },
    {
      "cell_type": "code",
      "source": [
        "#index_ser.shape"
      ],
      "metadata": {
        "id": "o0CaBbJA0aJO"
      },
      "execution_count": null,
      "outputs": []
    },
    {
      "cell_type": "code",
      "source": [
        "dataset[:,:,0].shape"
      ],
      "metadata": {
        "id": "fMv5VozT0dVk"
      },
      "execution_count": null,
      "outputs": []
    },
    {
      "cell_type": "code",
      "source": [
        "from tqdm import tqdm\n",
        "import pandas as pd\n",
        "def extract_pixels(dataset, ground_truth):\n",
        "    df = pd.DataFrame()\n",
        "    df = pd.concat([df,row_series,col_series],axis=1)\n",
        "    for i in tqdm(range(dataset.shape[2])):\n",
        "        df = pd.concat([df, pd.DataFrame(dataset[:, :, i].ravel())], axis=1)\n",
        "    df = pd.concat([df, pd.DataFrame(ground_truth.ravel())], axis=1)\n",
        "    df.columns = ['pixel_row', 'pixel_col']+[f'band-{i}' for i in range(1, 1+dataset.shape[2])]+['class']\n",
        "    return df"
      ],
      "metadata": {
        "id": "w9PbRkmv0ifc"
      },
      "execution_count": null,
      "outputs": []
    },
    {
      "cell_type": "code",
      "source": [
        "df = extract_pixels(dataset, ground_truth)"
      ],
      "metadata": {
        "id": "Pev5Esbl0mo0"
      },
      "execution_count": null,
      "outputs": []
    },
    {
      "cell_type": "code",
      "source": [
        "df.head()"
      ],
      "metadata": {
        "id": "8eC_jfkW0qpX"
      },
      "execution_count": null,
      "outputs": []
    },
    {
      "cell_type": "code",
      "source": [
        "df.shape"
      ],
      "metadata": {
        "id": "NeCSdlTQ0xCK"
      },
      "execution_count": null,
      "outputs": []
    },
    {
      "cell_type": "code",
      "source": [
        "df.to_csv('Dataset.csv', index=False)"
      ],
      "metadata": {
        "id": "6EoVhvvm00CE"
      },
      "execution_count": null,
      "outputs": []
    },
    {
      "cell_type": "code",
      "source": [
        "df.iloc[:,2]"
      ],
      "metadata": {
        "id": "dAy75Bmg03l_"
      },
      "execution_count": null,
      "outputs": []
    },
    {
      "cell_type": "code",
      "source": [
        "def plot_signature(df):\n",
        "    plt.figure(figsize=(12, 6))\n",
        "    pixel_no = np.random.randint(df.shape[0])\n",
        "    plt.plot(range(1, 201), df.iloc[pixel_no, 2:-1].values.tolist(), 'b--', label= f'Class - {df.iloc[pixel_no, -1]}')\n",
        "    plt.legend()\n",
        "    plt.title(f'Pixel({pixel_no}) signature', fontsize=14)\n",
        "    plt.xlabel('Band Number', fontsize=14)\n",
        "    plt.ylabel('Pixel Intensity', fontsize=14)\n",
        "    plt.show()\n",
        "\n",
        "plot_signature(df)"
      ],
      "metadata": {
        "id": "QhcWaSuZ079x"
      },
      "execution_count": null,
      "outputs": []
    },
    {
      "cell_type": "code",
      "source": [
        "df.loc[:,'class'].unique()"
      ],
      "metadata": {
        "id": "vlu2LG3F1AaM"
      },
      "execution_count": null,
      "outputs": []
    },
    {
      "cell_type": "code",
      "source": [
        "df.loc[:, 'class'].value_counts()"
      ],
      "metadata": {
        "id": "qXsBv54i1Gog"
      },
      "execution_count": null,
      "outputs": []
    },
    {
      "cell_type": "code",
      "source": [
        "import seaborn as sns\n",
        "\n",
        "plt.figure(figsize=(14, 8))\n",
        "\n",
        "ax = sns.countplot(x='class', data=df[['class']])\n",
        "\n",
        "for p in ax.patches:\n",
        "        ax.annotate('{:.1f}%'.format(100*p.get_height()/df.shape[0]), (p.get_x()+0.1, p.get_height()+5))\n",
        "\n",
        "plt.ylabel('Class count with percentage', fontsize=14)\n",
        "\n",
        "plt.xlabel('class', fontsize=14)\n",
        "\n",
        "plt.title('Bar Plot', fontsize=16)\n",
        "\n",
        "plt.show()"
      ],
      "metadata": {
        "id": "ou8Q5UdH1JNj"
      },
      "execution_count": null,
      "outputs": []
    },
    {
      "cell_type": "code",
      "source": [
        "# Visualizing the pixel\n",
        "plt.matshow(df.iloc[1, 2:-1].values.reshape(1,200), cmap='jet');"
      ],
      "metadata": {
        "id": "rM1ruCe41Ovh"
      },
      "execution_count": null,
      "outputs": []
    },
    {
      "cell_type": "code",
      "source": [
        "from mpl_toolkits.axes_grid1 import make_axes_locatable\n",
        "def plot_pixel(pixel, n):\n",
        "    ax = plt.gca()\n",
        "    im = ax.imshow(pixel.reshape(10, 20), cmap = 'jet')\n",
        "    plt.title(f'pixel - {n}')\n",
        "    plt.axis('off')\n",
        "    divider = make_axes_locatable(ax)\n",
        "    cax = divider.append_axes(\"right\", size=\"5%\", pad=0.05)\n",
        "    plt.colorbar(im, cax=cax)\n",
        "    plt.show()"
      ],
      "metadata": {
        "id": "XYoW6tic1TAD"
      },
      "execution_count": null,
      "outputs": []
    },
    {
      "cell_type": "code",
      "source": [
        "plt.figure(figsize=(8, 4))\n",
        "\n",
        "rand_n = np.random.randint(df.shape[0])\n",
        "\n",
        "plot_pixel(df.iloc[rand_n, 2:-1].values, rand_n)"
      ],
      "metadata": {
        "id": "XKuSqHqj1Wfa"
      },
      "execution_count": null,
      "outputs": []
    },
    {
      "cell_type": "code",
      "source": [
        "type(df['band-1'])"
      ],
      "metadata": {
        "id": "kLQBHqnS1abr"
      },
      "execution_count": null,
      "outputs": []
    },
    {
      "cell_type": "code",
      "source": [
        "plt.figure(figsize=(16, 6))\n",
        "n = int(input('Enter the band Number(1-200) :'))\n",
        "sns.boxplot( x=df[\"class\"], y=df[str('band-'+str(n))], width=0.3);\n",
        "plt.title('Box Plot', fontsize= 16)\n",
        "plt.xlabel('Class', fontsize= 14)\n",
        "plt.ylabel(f'Band-{n}', fontsize= 14)\n",
        "plt.show()"
      ],
      "metadata": {
        "id": "lznbC0kq1dc7"
      },
      "execution_count": null,
      "outputs": []
    },
    {
      "cell_type": "code",
      "source": [
        "import matplotlib.pyplot as plt\n",
        "import pandas as pd\n",
        "import numpy as np\n",
        "import seaborn as sns\n",
        "from sklearn.svm import SVC\n",
        "from sklearn.decomposition import PCA\n",
        "from sklearn.model_selection import train_test_split"
      ],
      "metadata": {
        "id": "9VenkgaK1gVZ"
      },
      "execution_count": null,
      "outputs": []
    },
    {
      "cell_type": "code",
      "source": [
        "df = pd.read_csv('Dataset.csv')"
      ],
      "metadata": {
        "id": "SVImvD231ubM"
      },
      "execution_count": null,
      "outputs": []
    },
    {
      "cell_type": "code",
      "source": [
        "df.head()"
      ],
      "metadata": {
        "id": "OGKAdg4I1v8J"
      },
      "execution_count": null,
      "outputs": []
    },
    {
      "cell_type": "code",
      "source": [
        "X = df.iloc[:, 2:-1].values\n",
        "\n",
        "y = df.iloc[:, -1].values"
      ],
      "metadata": {
        "id": "FpWoEDNZ10kA"
      },
      "execution_count": null,
      "outputs": []
    },
    {
      "cell_type": "code",
      "source": [
        "X.shape,y.shape"
      ],
      "metadata": {
        "id": "bkulMvbM15zh"
      },
      "execution_count": null,
      "outputs": []
    },
    {
      "cell_type": "code",
      "source": [
        "pca = PCA(n_components=30)\n",
        "principalComponents = pca.fit_transform(X)\n",
        "ev = pca.explained_variance_ratio_"
      ],
      "metadata": {
        "id": "jAltXKGt16xN"
      },
      "execution_count": null,
      "outputs": []
    },
    {
      "cell_type": "code",
      "source": [
        "ev"
      ],
      "metadata": {
        "id": "7_T2BHHX1-EH"
      },
      "execution_count": null,
      "outputs": []
    },
    {
      "cell_type": "code",
      "source": [
        "plt.plot(np.cumsum(ev))\n",
        "plt.xlabel(\"Number of components\")\n",
        "plt.ylabel(\"cumulative explained variance\")\n",
        "plt.show()"
      ],
      "metadata": {
        "id": "mJ93BpBW2Asr"
      },
      "execution_count": null,
      "outputs": []
    },
    {
      "cell_type": "code",
      "source": [
        "# Interactive plot\n",
        "df3 = pd.DataFrame(ev, columns=['Cumulative explained variance']).cumsum()\n",
        "df3['Number of components'] = pd.Series(list(range(30)))\n",
        "df3.plot(x='Number of components', y='Cumulative explained variance')"
      ],
      "metadata": {
        "id": "7IpiP8Fi2F1O"
      },
      "execution_count": null,
      "outputs": []
    },
    {
      "cell_type": "code",
      "source": [
        "X_train, X_test, y_train, y_test, indices_train, indices_test  = train_test_split(principalComponents, y,  range(X.shape[0]),\n",
        "                                                                                  test_size = 0.15)"
      ],
      "metadata": {
        "id": "hNk5n4dd2OqG"
      },
      "execution_count": null,
      "outputs": []
    },
    {
      "cell_type": "code",
      "source": [
        "X_train.shape, X_test.shape"
      ],
      "metadata": {
        "id": "4ywO3UHy2Pld"
      },
      "execution_count": null,
      "outputs": []
    },
    {
      "cell_type": "code",
      "source": [
        "svm = SVC(kernel='rbf', degree = 10, gamma='scale', cache_size=1024*7)\n",
        "svm.fit(X_train, y_train)"
      ],
      "metadata": {
        "id": "pyiSNtzo2S3l"
      },
      "execution_count": null,
      "outputs": []
    },
    {
      "cell_type": "code",
      "source": [
        "y_pred = svm.predict(X_test)"
      ],
      "metadata": {
        "id": "9Zg7qpi82dod"
      },
      "execution_count": null,
      "outputs": []
    },
    {
      "cell_type": "code",
      "source": [
        "from sklearn.metrics import classification_report, confusion_matrix, accuracy_score\n",
        "\n",
        "print(\"Accuracy: \", accuracy_score(y_test, y_pred))"
      ],
      "metadata": {
        "id": "WjHP4UQ62i7-"
      },
      "execution_count": null,
      "outputs": []
    },
    {
      "cell_type": "code",
      "source": [
        "accuracy_list = []\n",
        "for i in range(0,20):\n",
        "    X_train, X_test, y_train, y_test, indices_train, indices_test  = train_test_split(principalComponents, y,  range(X.shape[0]),\n",
        "                                                                                  test_size = 0.15)\n",
        "    svm = SVC(kernel='rbf', degree = 10, gamma='scale', cache_size=1024*7)\n",
        "    svm.fit(X_train, y_train)\n",
        "    y_pred = svm.predict(X_test)\n",
        "    accuracy_list.append(accuracy_score(y_test, y_pred))\n",
        "    #print(f\"Accuracy : {accuracy_score(y_test,y_pred)}\")\n",
        "\n",
        "print(f\"Average accuracy: {sum(accuracy_list)/len(accuracy_list)}\")"
      ],
      "metadata": {
        "id": "V5vCC-vb2n73"
      },
      "execution_count": null,
      "outputs": []
    },
    {
      "cell_type": "code",
      "source": [
        "!pip install scikit-plot\n"
      ],
      "metadata": {
        "id": "E6u2zxaWAh1z"
      },
      "execution_count": null,
      "outputs": []
    },
    {
      "cell_type": "code",
      "source": [
        "import scikitplot as skplt\n",
        "\n",
        "skplt.metrics.plot_confusion_matrix(\n",
        "    y_test,\n",
        "    y_pred,\n",
        "    figsize=(12,12))"
      ],
      "metadata": {
        "id": "gSL-GTGW2qgX"
      },
      "execution_count": null,
      "outputs": []
    },
    {
      "cell_type": "code",
      "source": [
        "import plotly.graph_objects as go\n",
        "\n",
        "fig = go.Figure(data=go.Heatmap(\n",
        "                   z= confusion_matrix(y_test, y_pred),\n",
        "                   x=[f'class-{i}' for i in np.unique(df.loc[:, 'class'].values)],\n",
        "                   y=[f'class-{i}' for i in np.unique(df.loc[:, 'class'].values)],\n",
        "                   hoverongaps = False))\n",
        "fig.show()"
      ],
      "metadata": {
        "id": "ex3mIIJp2rD6"
      },
      "execution_count": null,
      "outputs": []
    },
    {
      "cell_type": "code",
      "source": [
        "print('Classification report:\\n',classification_report(y_test,y_pred))"
      ],
      "metadata": {
        "id": "CGqwMoV_21w7"
      },
      "execution_count": null,
      "outputs": []
    },
    {
      "cell_type": "code",
      "source": [
        "df.iloc[:,-1].values.reshape((145,145))"
      ],
      "metadata": {
        "id": "aV51oRiT28bT"
      },
      "execution_count": null,
      "outputs": []
    },
    {
      "cell_type": "code",
      "source": [
        "plt.figure(figsize=(8, 6))\n",
        "plt.imshow(df.iloc[:, -1].values.reshape((145, 145)), cmap='jet')\n",
        "plt.colorbar()\n",
        "plt.axis('off')\n",
        "plt.title('Ground Truth')\n",
        "plt.savefig('ground_truth.png')\n",
        "plt.show()"
      ],
      "metadata": {
        "id": "VbxbKsgV2_1r"
      },
      "execution_count": null,
      "outputs": []
    },
    {
      "cell_type": "code",
      "source": [
        "len([0]*X.shape[0])"
      ],
      "metadata": {
        "id": "LJEP_56k3AOm"
      },
      "execution_count": null,
      "outputs": []
    },
    {
      "cell_type": "code",
      "source": [
        "pre = y_pred\n",
        "clmap = np.zeros((145,145))\n",
        "\n",
        "for i in tqdm(range(len(indices_train))):\n",
        "    clmap[df.iloc[indices_train[i], 0]][df.iloc[indices_train[i], 1]] = y[indices_train[i]]\n",
        "\n",
        "for i in tqdm(range(len(indices_test))):\n",
        "    clmap[df.iloc[indices_test[i], 0]][df.iloc[indices_test[i], 1]] = pre[i]"
      ],
      "metadata": {
        "id": "FWTF3DD33AS9"
      },
      "execution_count": null,
      "outputs": []
    },
    {
      "cell_type": "code",
      "source": [
        "plt.figure(figsize=(8, 6))\n",
        "plt.imshow(clmap, cmap='jet')\n",
        "plt.colorbar()\n",
        "plt.axis('off')\n",
        "plt.title('Classification Map (PCA + SVM)')\n",
        "plt.savefig('Classification_map.png')\n",
        "plt.show()"
      ],
      "metadata": {
        "id": "DwJugNOZ3NSF"
      },
      "execution_count": null,
      "outputs": []
    },
    {
      "cell_type": "code",
      "source": [
        "from tqdm import tqdm\n",
        "pre = y_pred\n",
        "\n",
        "clmap = [0]*X.shape[0]\n",
        "\n",
        "for i in tqdm(range(len(indices_train))):\n",
        "    clmap[indices_train[i]] = y[indices_train[i]]\n",
        "\n",
        "for i in tqdm(range(len(indices_test))):\n",
        "    clmap[indices_test[i]] = pre[i]"
      ],
      "metadata": {
        "id": "4OVz284s3Nmf"
      },
      "execution_count": null,
      "outputs": []
    },
    {
      "cell_type": "code",
      "source": [
        "plt.figure(figsize=(8, 6))\n",
        "plt.imshow(np.array(clmap).reshape((145, 145)), cmap='jet')\n",
        "plt.colorbar()\n",
        "plt.axis('off')\n",
        "plt.title('Classification Map (NN)')\n",
        "plt.savefig('Classification_map.png')\n",
        "plt.show()"
      ],
      "metadata": {
        "id": "XJDxOzK23N75"
      },
      "execution_count": null,
      "outputs": []
    },
    {
      "cell_type": "markdown",
      "source": [
        "NN\n"
      ],
      "metadata": {
        "id": "g0r08nOC9UbK"
      }
    },
    {
      "cell_type": "code",
      "source": [
        "from tensorflow.keras.models import Sequential\n",
        "from tensorflow.keras.layers import Dense, Activation, Dropout, BatchNormalization\n",
        "from tensorflow.keras import regularizers, models, layers\n",
        "from tensorflow.keras.callbacks import EarlyStopping"
      ],
      "metadata": {
        "id": "SJWEnhNR3OWM"
      },
      "execution_count": null,
      "outputs": []
    },
    {
      "cell_type": "code",
      "source": [
        "X_train.shape"
      ],
      "metadata": {
        "id": "KfHYwj7q9YgL"
      },
      "execution_count": null,
      "outputs": []
    },
    {
      "cell_type": "code",
      "source": [
        "from keras.models import Sequential\n",
        "from keras.layers import Dense, Activation, Dropout, BatchNormalization\n",
        "from keras import regularizers, models, layers\n",
        "from keras.callbacks import EarlyStopping\n",
        "\n",
        "\n",
        "model = Sequential()\n",
        "\n",
        "model.add(Dense(150,activation='relu',kernel_regularizer=regularizers.l2(1e-4)))\n",
        "model.add(BatchNormalization())\n",
        "model.add(Dropout(0.2))\n",
        "\n",
        "model.add(Dense(100,activation='relu',kernel_regularizer=regularizers.l2(1e-4)))\n",
        "model.add(BatchNormalization())\n",
        "\n",
        "model.add(Dense(100,activation='relu',kernel_regularizer=regularizers.l2(1e-4)))\n",
        "model.add(BatchNormalization())\n",
        "model.add(Dropout(0.3))\n",
        "\n",
        "model.add(Dense(75,activation='relu',kernel_regularizer=regularizers.l2(1e-4)))\n",
        "model.add(BatchNormalization())\n",
        "\n",
        "model.add(Dense(75,activation='relu',kernel_regularizer=regularizers.l2(1e-4)))\n",
        "model.add(BatchNormalization())\n",
        "model.add(Dropout(0.4))\n",
        "\n",
        "model.add(Dense(50,activation='relu',kernel_regularizer=regularizers.l2(1e-4)))\n",
        "model.add(BatchNormalization())\n",
        "\n",
        "model.add(Dense(17,activation='softmax'))\n",
        "\n",
        "model.compile(loss='sparse_categorical_crossentropy',\n",
        "             optimizer='adam',\n",
        "             metrics=['accuracy'])"
      ],
      "metadata": {
        "id": "F5MsfTKd9hxA"
      },
      "execution_count": null,
      "outputs": []
    },
    {
      "cell_type": "code",
      "source": [
        "batch_size = 128\n",
        "epochs = 200\n",
        "early_stop = EarlyStopping(monitor='val_loss',mode='min',verbose=1,patience=20)\n",
        "model.fit(x=X_train,\n",
        "          y=y_train,\n",
        "          epochs=epochs,\n",
        "          validation_data=(X_test,y_test),\n",
        "          verbose=0,\n",
        "         callbacks=[early_stop])"
      ],
      "metadata": {
        "id": "Lc7NjTPM9l7A"
      },
      "execution_count": null,
      "outputs": []
    },
    {
      "cell_type": "code",
      "source": [
        "model.summary()"
      ],
      "metadata": {
        "id": "1aam1WQ1-Ah4"
      },
      "execution_count": null,
      "outputs": []
    },
    {
      "cell_type": "code",
      "source": [
        "score = model.evaluate(X_test,y_test, verbose=1)"
      ],
      "metadata": {
        "id": "u3-0lMBo-C26"
      },
      "execution_count": null,
      "outputs": []
    },
    {
      "cell_type": "code",
      "source": [
        "score"
      ],
      "metadata": {
        "id": "2yrwhVvK-Dex"
      },
      "execution_count": null,
      "outputs": []
    },
    {
      "cell_type": "code",
      "source": [
        "y_pred = model.predict(X_test)"
      ],
      "metadata": {
        "id": "Am_NG23j-FoG"
      },
      "execution_count": null,
      "outputs": []
    },
    {
      "cell_type": "code",
      "source": [
        "y_pred_classes = y_pred.argmax(axis=1)"
      ],
      "metadata": {
        "id": "MLQqBehD-Hq4"
      },
      "execution_count": null,
      "outputs": []
    },
    {
      "cell_type": "code",
      "source": [
        "y_pred_classes"
      ],
      "metadata": {
        "id": "1sOctT0x-LLi"
      },
      "execution_count": null,
      "outputs": []
    },
    {
      "cell_type": "code",
      "source": [
        "from sklearn.metrics import classification_report, confusion_matrix, accuracy_score\n",
        "\n",
        "print(\"Accuracy: \", accuracy_score(y_test, y_pred_classes))"
      ],
      "metadata": {
        "id": "8WjYhEaC-N25"
      },
      "execution_count": null,
      "outputs": []
    },
    {
      "cell_type": "code",
      "source": [
        "import scikitplot as skplt\n",
        "\n",
        "skplt.metrics.plot_confusion_matrix(\n",
        "    y_test,\n",
        "    y_pred_classes,\n",
        "    figsize=(12,12))"
      ],
      "metadata": {
        "id": "_tdlptLe-QSS"
      },
      "execution_count": null,
      "outputs": []
    },
    {
      "cell_type": "code",
      "source": [
        "print('Classification report:\\n',classification_report(y_test,y_pred_classes))"
      ],
      "metadata": {
        "id": "20TuuLf7-Sq0"
      },
      "execution_count": null,
      "outputs": []
    },
    {
      "cell_type": "code",
      "source": [
        "plt.figure(figsize=(8, 6))\n",
        "plt.imshow(df.iloc[:, -1].values.reshape((145, 145)), cmap='jet')\n",
        "plt.colorbar()\n",
        "plt.axis('off')\n",
        "plt.title('Ground Truth')\n",
        "plt.savefig('ground_truth.png')\n",
        "plt.show()"
      ],
      "metadata": {
        "id": "nTCmMGyQ-V0e"
      },
      "execution_count": null,
      "outputs": []
    },
    {
      "cell_type": "code",
      "source": [
        "from tqdm import tqdm\n",
        "pre = y_pred_classes\n",
        "\n",
        "clmap = [0]*X.shape[0]\n",
        "\n",
        "for i in tqdm(range(len(indices_train))):\n",
        "    clmap[indices_train[i]] = y[indices_train[i]]\n",
        "\n",
        "for i in tqdm(range(len(indices_test))):\n",
        "    clmap[indices_test[i]] = pre[i]"
      ],
      "metadata": {
        "id": "tIZuT2EM-YBn"
      },
      "execution_count": null,
      "outputs": []
    },
    {
      "cell_type": "code",
      "source": [
        "plt.figure(figsize=(8, 6))\n",
        "plt.imshow(np.array(clmap).reshape((145, 145)), cmap='jet')\n",
        "plt.colorbar()\n",
        "plt.axis('off')\n",
        "plt.title('Classification Map (NN)')\n",
        "plt.savefig('Classification_map.png')\n",
        "plt.show()"
      ],
      "metadata": {
        "id": "kcMcZUmW-ah0"
      },
      "execution_count": null,
      "outputs": []
    }
  ]
}